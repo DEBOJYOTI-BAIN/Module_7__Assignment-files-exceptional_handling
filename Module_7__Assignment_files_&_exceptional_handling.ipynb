{
  "nbformat": 4,
  "nbformat_minor": 0,
  "metadata": {
    "colab": {
      "provenance": []
    },
    "kernelspec": {
      "name": "python3",
      "display_name": "Python 3"
    },
    "language_info": {
      "name": "python"
    }
  },
  "cells": [
    {
      "cell_type": "markdown",
      "source": [
        "1. What is the difference between interpreted and compiled languages?\n",
        "  - Interpreted languages execute code line-by-line at runtime (e.g., Python), making them easier to debug but slower.\n",
        "  - Compiled languages translate source code into machine code before execution (e.g., C++), making them faster but less flexible.\n",
        "\n",
        "2. What is exception handling in Python?\n",
        "  - It’s a way to handle runtime errors without stopping the program, using try, except, else, and finally.\n",
        "\n",
        "  - Example:\n",
        "                    try:\n",
        "                        num = int(\"abc\")\n",
        "                    except ValueError:\n",
        "                        print(\"Invalid number!\")\n",
        "\n",
        "                    #Output:\n",
        "                    Invalid number!\n",
        "\n",
        "3. What is the purpose of the finally block in exception handling?\n",
        "  - Code in the finally block runs no matter what, useful for cleanup.\n",
        "\n",
        "  - Example:\n",
        "\n",
        "                    try:\n",
        "                        f = open(\"data.txt\", \"w\")\n",
        "                        f.write(\"Hello\")\n",
        "                    finally:\n",
        "                        f.close()\n",
        "\n",
        "4. What is logging in Python?\n",
        "  - Logging records events and errors for debugging or monitoring.\n",
        "\n",
        "  - Example:\n",
        "                    import logging\n",
        "                    logging.basicConfig(level=logging.INFO)\n",
        "                    logging.info(\"This is an info message\")\n",
        "\n",
        "                    #O/P:\n",
        "                    INFO:root:This is an info message\n",
        "\n",
        "Q5. What is the significance of the __del__ method in Python?\n",
        "  - It’s a destructor called when an object is deleted, used for cleanup.\n",
        "\n",
        "  - Example:\n",
        "\n",
        "                      class Demo:\n",
        "                          def __del__(self):\n",
        "                              print(\"Object destroyed\")\n",
        "\n",
        "                      d = Demo()\n",
        "                      del d\n",
        "\n",
        "                      #O/P:\n",
        "                      Object destroyed\n",
        "\n",
        "6. What is the difference between import and from ... import in Python?\n",
        "  - import module imports the whole module.\n",
        "\n",
        "  - from module import name imports specific parts.\n",
        "\n",
        "  - Example:\n",
        "\n",
        "\n",
        "                      import math\n",
        "                      print(math.sqrt(16))\n",
        "\n",
        "                      from math import sqrt\n",
        "                      print(sqrt(25))\n",
        "\n",
        "                      #O/P:\n",
        "                      4.0\n",
        "                      5.0\n",
        "\n",
        "7. How can you handle multiple exceptions in Python?\n",
        "  - Use multiple except blocks or a tuple of exceptions.\n",
        "\n",
        "  - Example:\n",
        "\n",
        "                      try:\n",
        "                          num = int(\"abc\")\n",
        "                      except (ValueError, TypeError):\n",
        "                          print(\"Error occurred\")\n",
        "\n",
        "                      #O/P:\n",
        "                      Error occurred\n",
        "\n",
        "8. What is the purpose of the with statement when handling files in Python?\n",
        "  - It automatically closes the file, even if errors occur.\n",
        "\n",
        "  - Example:\n",
        "                      with open(\"file.txt\", \"w\") as f:\n",
        "                          f.write(\"Hello\")\n",
        "\n",
        "9. What is the difference between multithreading and multiprocessing?\n",
        "  - Multithreading: Multiple threads share memory (good for I/O tasks).\n",
        "\n",
        "  - Multiprocessing: Multiple processes have separate memory (good for CPU tasks).\n",
        "\n",
        "10. What are the advantages of using logging in a program?\n",
        "  - Permanent records\n",
        "\n",
        "  - Adjustable detail levels\n",
        "\n",
        "  - Works without modifying code structure much\n",
        "\n",
        "11. What is memory management in Python?\n",
        "  - It’s the allocation, tracking, and freeing of memory, handled by Python’s private heap and garbage collector.\n",
        "\n",
        "12. What are the basic steps involved in exception handling in Python?\n",
        "  - Code in try.\n",
        "\n",
        "  - Catch errors in except.\n",
        "\n",
        "  - Run optional else if no error.\n",
        "\n",
        "  - Run finally for cleanup.\n",
        "\n",
        "13. Why is memory management important in Python?\n",
        "\n",
        "  - It prevents memory leaks and keeps performance stable.\n",
        "\n",
        "14. What is the role of try and except in exception handling?\n",
        "\n",
        "  - try encloses risky code, except handles errors.\n",
        "\n",
        "  - Example:\n",
        "                  try:\n",
        "                      x = 10 / 0\n",
        "                  except ZeroDivisionError:\n",
        "                      print(\"Cannot divide by zero\")\n",
        "\n",
        "                  #O/P:\n",
        "                  Cannot divide by zero\n",
        "\n",
        "15. How does Python's garbage collection system work?\n",
        "  - It uses reference counting and a cyclic garbage collector to free memory from unused objects.\n",
        "\n",
        "16. What is the purpose of the else block in exception handling?\n",
        "  - It runs only if no exception occurs.\n",
        "\n",
        "  - Example:\n",
        "                  try:\n",
        "                      print(\"No error\")\n",
        "                  except:\n",
        "                      print(\"Error occurred\")\n",
        "                  else:\n",
        "                      print(\"Else block runs\")\n",
        "\n",
        "                  #O/P:\n",
        "                  No error\n",
        "                  Else block runs\n",
        "\n",
        "17. What are the common logging levels in Python?\n",
        "  - DEBUG, INFO, WARNING, ERROR, CRITICAL.\n",
        "\n",
        "18. What is the difference between os.fork() and multiprocessing in Python?\n",
        "  - os.fork() creates a new process (Unix only).\n",
        "\n",
        "  - multiprocessing works on all platforms and is higher-level.\n",
        "\n",
        "19. What is the importance of closing a file in Python?\n",
        "  - It saves data and releases system resources.\n",
        "\n",
        "20. What is the difference between file.read() and file.readline() in Python?\n",
        "  - read() reads the entire file or a given number of bytes.\n",
        "\n",
        "  - readline() reads one line at a time.\n",
        "\n",
        "21. What is the logging module in Python used for?\n",
        "  - It manages logs in a flexible, configurable way.\n",
        "\n",
        "22. What is the os module in Python used for in file handling?\n",
        "\n",
        "  - It provides functions to interact with the OS, like file paths, creation, and deletion.\n",
        "\n",
        "23. What are the challenges associated with memory management in Python?\n",
        "\n",
        "\n",
        "  - Cyclic references\n",
        "\n",
        "  - Memory fragmentation\n",
        "\n",
        "  - Handling large datasets\n",
        "\n",
        "24. How do you raise an exception manually in Python?\n",
        "  - Use raise keyword.\n",
        "\n",
        "  - Example:\n",
        "                    raise ValueError(\"Invalid value\")\n",
        "\n",
        "25. Why is it important to use multithreading in certain applications?\n",
        "  - It improves performance in I/O-bound tasks by allowing concurrent execution.\n",
        "\n",
        "  - Example:\n",
        "                      import threading\n",
        "\n",
        "                      def task():\n",
        "                          print(\"Task running\")\n",
        "\n",
        "                      t = threading.Thread(target=task)\n",
        "                      t.start()\n",
        "\n",
        "                      #O/P:\n",
        "                      Task running\n"
      ],
      "metadata": {
        "id": "JQX2q6p-41E6"
      }
    },
    {
      "cell_type": "markdown",
      "source": [
        "#Practical Questions and Answers"
      ],
      "metadata": {
        "id": "w5BVYmNZA4Un"
      }
    },
    {
      "cell_type": "markdown",
      "source": [
        "#1.  How can you open a file for writing in Python and write a string to it?"
      ],
      "metadata": {
        "id": "nJsFV40EMkge"
      }
    },
    {
      "cell_type": "code",
      "source": [
        "file = open(\"example.txt\", \"w\")\n",
        "file.write(\"Hello, Python File Handling!\")\n",
        "file.close()\n",
        "\n",
        "print(\"File created and written successfully!\")\n",
        "\n"
      ],
      "metadata": {
        "colab": {
          "base_uri": "https://localhost:8080/"
        },
        "id": "5hNl16o8IXPO",
        "outputId": "d380de2f-60e6-444c-8444-25ce2304efd8"
      },
      "execution_count": 70,
      "outputs": [
        {
          "output_type": "stream",
          "name": "stdout",
          "text": [
            "File created and written successfully!\n"
          ]
        }
      ]
    },
    {
      "cell_type": "code",
      "source": [
        "with open(\"example.txt\", \"r\") as f:\n",
        "    print(f.read())\n"
      ],
      "metadata": {
        "colab": {
          "base_uri": "https://localhost:8080/"
        },
        "id": "oF4vtCC7MfsY",
        "outputId": "ecea32e6-f5b1-4b33-ff72-d185c6f6607f"
      },
      "execution_count": 71,
      "outputs": [
        {
          "output_type": "stream",
          "name": "stdout",
          "text": [
            "Hello, Python File Handling!\n"
          ]
        }
      ]
    },
    {
      "cell_type": "code",
      "source": [
        "#2.  Write a Python program to read the contents of a file and print each line.\n",
        "\n",
        "\n",
        "with open(\"example.txt\", \"r\") as file:\n",
        "    for line in file:\n",
        "        print(line.strip())\n"
      ],
      "metadata": {
        "colab": {
          "base_uri": "https://localhost:8080/"
        },
        "id": "D8q1THJqIdQg",
        "outputId": "4135d4bb-0aec-43e5-93eb-c64e2fc481d2"
      },
      "execution_count": 72,
      "outputs": [
        {
          "output_type": "stream",
          "name": "stdout",
          "text": [
            "Hello, Python File Handling!\n"
          ]
        }
      ]
    },
    {
      "cell_type": "code",
      "source": [
        "#3.  How would you handle a case where the file doesn't exist while trying to open it for reading?\n",
        "\n",
        "\n",
        "try:\n",
        "    with open(\"non_existing_file.txt\", \"r\") as file:\n",
        "        content = file.read()\n",
        "        print(content)\n",
        "except FileNotFoundError:\n",
        "    print(\"Error: The file does not exist.\")\n"
      ],
      "metadata": {
        "colab": {
          "base_uri": "https://localhost:8080/"
        },
        "id": "Oh6NfvVoIgq4",
        "outputId": "ae1dba96-7cdf-420f-f63c-a7eff582a195"
      },
      "execution_count": 73,
      "outputs": [
        {
          "output_type": "stream",
          "name": "stdout",
          "text": [
            "Error: The file does not exist.\n"
          ]
        }
      ]
    },
    {
      "cell_type": "markdown",
      "source": [
        "#4.  Write a Python script that reads from one file and writes its content to another file."
      ],
      "metadata": {
        "id": "xFmDN6HlL-Ji"
      }
    },
    {
      "cell_type": "code",
      "source": [
        "from google.colab import files\n",
        "uploaded = files.upload()\n"
      ],
      "metadata": {
        "colab": {
          "base_uri": "https://localhost:8080/",
          "height": 73
        },
        "id": "J-s86-PsIk8i",
        "outputId": "8c5d7aac-6ef8-4d1c-b085-ed99fde2e2bc"
      },
      "execution_count": 18,
      "outputs": [
        {
          "output_type": "display_data",
          "data": {
            "text/plain": [
              "<IPython.core.display.HTML object>"
            ],
            "text/html": [
              "\n",
              "     <input type=\"file\" id=\"files-a6bb9948-c882-4ad6-89ec-6ac56decc995\" name=\"files[]\" multiple disabled\n",
              "        style=\"border:none\" />\n",
              "     <output id=\"result-a6bb9948-c882-4ad6-89ec-6ac56decc995\">\n",
              "      Upload widget is only available when the cell has been executed in the\n",
              "      current browser session. Please rerun this cell to enable.\n",
              "      </output>\n",
              "      <script>// Copyright 2017 Google LLC\n",
              "//\n",
              "// Licensed under the Apache License, Version 2.0 (the \"License\");\n",
              "// you may not use this file except in compliance with the License.\n",
              "// You may obtain a copy of the License at\n",
              "//\n",
              "//      http://www.apache.org/licenses/LICENSE-2.0\n",
              "//\n",
              "// Unless required by applicable law or agreed to in writing, software\n",
              "// distributed under the License is distributed on an \"AS IS\" BASIS,\n",
              "// WITHOUT WARRANTIES OR CONDITIONS OF ANY KIND, either express or implied.\n",
              "// See the License for the specific language governing permissions and\n",
              "// limitations under the License.\n",
              "\n",
              "/**\n",
              " * @fileoverview Helpers for google.colab Python module.\n",
              " */\n",
              "(function(scope) {\n",
              "function span(text, styleAttributes = {}) {\n",
              "  const element = document.createElement('span');\n",
              "  element.textContent = text;\n",
              "  for (const key of Object.keys(styleAttributes)) {\n",
              "    element.style[key] = styleAttributes[key];\n",
              "  }\n",
              "  return element;\n",
              "}\n",
              "\n",
              "// Max number of bytes which will be uploaded at a time.\n",
              "const MAX_PAYLOAD_SIZE = 100 * 1024;\n",
              "\n",
              "function _uploadFiles(inputId, outputId) {\n",
              "  const steps = uploadFilesStep(inputId, outputId);\n",
              "  const outputElement = document.getElementById(outputId);\n",
              "  // Cache steps on the outputElement to make it available for the next call\n",
              "  // to uploadFilesContinue from Python.\n",
              "  outputElement.steps = steps;\n",
              "\n",
              "  return _uploadFilesContinue(outputId);\n",
              "}\n",
              "\n",
              "// This is roughly an async generator (not supported in the browser yet),\n",
              "// where there are multiple asynchronous steps and the Python side is going\n",
              "// to poll for completion of each step.\n",
              "// This uses a Promise to block the python side on completion of each step,\n",
              "// then passes the result of the previous step as the input to the next step.\n",
              "function _uploadFilesContinue(outputId) {\n",
              "  const outputElement = document.getElementById(outputId);\n",
              "  const steps = outputElement.steps;\n",
              "\n",
              "  const next = steps.next(outputElement.lastPromiseValue);\n",
              "  return Promise.resolve(next.value.promise).then((value) => {\n",
              "    // Cache the last promise value to make it available to the next\n",
              "    // step of the generator.\n",
              "    outputElement.lastPromiseValue = value;\n",
              "    return next.value.response;\n",
              "  });\n",
              "}\n",
              "\n",
              "/**\n",
              " * Generator function which is called between each async step of the upload\n",
              " * process.\n",
              " * @param {string} inputId Element ID of the input file picker element.\n",
              " * @param {string} outputId Element ID of the output display.\n",
              " * @return {!Iterable<!Object>} Iterable of next steps.\n",
              " */\n",
              "function* uploadFilesStep(inputId, outputId) {\n",
              "  const inputElement = document.getElementById(inputId);\n",
              "  inputElement.disabled = false;\n",
              "\n",
              "  const outputElement = document.getElementById(outputId);\n",
              "  outputElement.innerHTML = '';\n",
              "\n",
              "  const pickedPromise = new Promise((resolve) => {\n",
              "    inputElement.addEventListener('change', (e) => {\n",
              "      resolve(e.target.files);\n",
              "    });\n",
              "  });\n",
              "\n",
              "  const cancel = document.createElement('button');\n",
              "  inputElement.parentElement.appendChild(cancel);\n",
              "  cancel.textContent = 'Cancel upload';\n",
              "  const cancelPromise = new Promise((resolve) => {\n",
              "    cancel.onclick = () => {\n",
              "      resolve(null);\n",
              "    };\n",
              "  });\n",
              "\n",
              "  // Wait for the user to pick the files.\n",
              "  const files = yield {\n",
              "    promise: Promise.race([pickedPromise, cancelPromise]),\n",
              "    response: {\n",
              "      action: 'starting',\n",
              "    }\n",
              "  };\n",
              "\n",
              "  cancel.remove();\n",
              "\n",
              "  // Disable the input element since further picks are not allowed.\n",
              "  inputElement.disabled = true;\n",
              "\n",
              "  if (!files) {\n",
              "    return {\n",
              "      response: {\n",
              "        action: 'complete',\n",
              "      }\n",
              "    };\n",
              "  }\n",
              "\n",
              "  for (const file of files) {\n",
              "    const li = document.createElement('li');\n",
              "    li.append(span(file.name, {fontWeight: 'bold'}));\n",
              "    li.append(span(\n",
              "        `(${file.type || 'n/a'}) - ${file.size} bytes, ` +\n",
              "        `last modified: ${\n",
              "            file.lastModifiedDate ? file.lastModifiedDate.toLocaleDateString() :\n",
              "                                    'n/a'} - `));\n",
              "    const percent = span('0% done');\n",
              "    li.appendChild(percent);\n",
              "\n",
              "    outputElement.appendChild(li);\n",
              "\n",
              "    const fileDataPromise = new Promise((resolve) => {\n",
              "      const reader = new FileReader();\n",
              "      reader.onload = (e) => {\n",
              "        resolve(e.target.result);\n",
              "      };\n",
              "      reader.readAsArrayBuffer(file);\n",
              "    });\n",
              "    // Wait for the data to be ready.\n",
              "    let fileData = yield {\n",
              "      promise: fileDataPromise,\n",
              "      response: {\n",
              "        action: 'continue',\n",
              "      }\n",
              "    };\n",
              "\n",
              "    // Use a chunked sending to avoid message size limits. See b/62115660.\n",
              "    let position = 0;\n",
              "    do {\n",
              "      const length = Math.min(fileData.byteLength - position, MAX_PAYLOAD_SIZE);\n",
              "      const chunk = new Uint8Array(fileData, position, length);\n",
              "      position += length;\n",
              "\n",
              "      const base64 = btoa(String.fromCharCode.apply(null, chunk));\n",
              "      yield {\n",
              "        response: {\n",
              "          action: 'append',\n",
              "          file: file.name,\n",
              "          data: base64,\n",
              "        },\n",
              "      };\n",
              "\n",
              "      let percentDone = fileData.byteLength === 0 ?\n",
              "          100 :\n",
              "          Math.round((position / fileData.byteLength) * 100);\n",
              "      percent.textContent = `${percentDone}% done`;\n",
              "\n",
              "    } while (position < fileData.byteLength);\n",
              "  }\n",
              "\n",
              "  // All done.\n",
              "  yield {\n",
              "    response: {\n",
              "      action: 'complete',\n",
              "    }\n",
              "  };\n",
              "}\n",
              "\n",
              "scope.google = scope.google || {};\n",
              "scope.google.colab = scope.google.colab || {};\n",
              "scope.google.colab._files = {\n",
              "  _uploadFiles,\n",
              "  _uploadFilesContinue,\n",
              "};\n",
              "})(self);\n",
              "</script> "
            ]
          },
          "metadata": {}
        },
        {
          "output_type": "stream",
          "name": "stdout",
          "text": [
            "Saving source.txt to source (1).txt\n"
          ]
        }
      ]
    },
    {
      "cell_type": "code",
      "source": [
        "\n",
        "with open(\"source.txt\", \"r\") as src:\n",
        "    content = src.read()\n",
        "\n",
        "with open(\"destination.txt\", \"w\") as dest:\n",
        "    dest.write(content)\n",
        "\n",
        "print(\"File copied successfully!\")\n"
      ],
      "metadata": {
        "colab": {
          "base_uri": "https://localhost:8080/"
        },
        "id": "C-OzjF8HMH-e",
        "outputId": "8910efe3-ac5a-4b58-e3ba-739370f0a29f"
      },
      "execution_count": 19,
      "outputs": [
        {
          "output_type": "stream",
          "name": "stdout",
          "text": [
            "File copied successfully!\n"
          ]
        }
      ]
    },
    {
      "cell_type": "code",
      "source": [
        "\n",
        "with open(\"destination.txt\", \"r\") as f:\n",
        "    print(f.read())\n",
        "\n",
        "from google.colab import files\n",
        "files.download(\"destination.txt\")\n"
      ],
      "metadata": {
        "colab": {
          "base_uri": "https://localhost:8080/",
          "height": 34
        },
        "id": "ujtQi4b2MPRS",
        "outputId": "7ab4e9aa-f31f-4718-d1af-4feebd395118"
      },
      "execution_count": 20,
      "outputs": [
        {
          "output_type": "stream",
          "name": "stdout",
          "text": [
            "Hi there, I am Debojyoti\n"
          ]
        },
        {
          "output_type": "display_data",
          "data": {
            "text/plain": [
              "<IPython.core.display.Javascript object>"
            ],
            "application/javascript": [
              "\n",
              "    async function download(id, filename, size) {\n",
              "      if (!google.colab.kernel.accessAllowed) {\n",
              "        return;\n",
              "      }\n",
              "      const div = document.createElement('div');\n",
              "      const label = document.createElement('label');\n",
              "      label.textContent = `Downloading \"${filename}\": `;\n",
              "      div.appendChild(label);\n",
              "      const progress = document.createElement('progress');\n",
              "      progress.max = size;\n",
              "      div.appendChild(progress);\n",
              "      document.body.appendChild(div);\n",
              "\n",
              "      const buffers = [];\n",
              "      let downloaded = 0;\n",
              "\n",
              "      const channel = await google.colab.kernel.comms.open(id);\n",
              "      // Send a message to notify the kernel that we're ready.\n",
              "      channel.send({})\n",
              "\n",
              "      for await (const message of channel.messages) {\n",
              "        // Send a message to notify the kernel that we're ready.\n",
              "        channel.send({})\n",
              "        if (message.buffers) {\n",
              "          for (const buffer of message.buffers) {\n",
              "            buffers.push(buffer);\n",
              "            downloaded += buffer.byteLength;\n",
              "            progress.value = downloaded;\n",
              "          }\n",
              "        }\n",
              "      }\n",
              "      const blob = new Blob(buffers, {type: 'application/binary'});\n",
              "      const a = document.createElement('a');\n",
              "      a.href = window.URL.createObjectURL(blob);\n",
              "      a.download = filename;\n",
              "      div.appendChild(a);\n",
              "      a.click();\n",
              "      div.remove();\n",
              "    }\n",
              "  "
            ]
          },
          "metadata": {}
        },
        {
          "output_type": "display_data",
          "data": {
            "text/plain": [
              "<IPython.core.display.Javascript object>"
            ],
            "application/javascript": [
              "download(\"download_055dd365-31e7-4d53-8753-9ce4dbe6111f\", \"destination.txt\", 24)"
            ]
          },
          "metadata": {}
        }
      ]
    },
    {
      "cell_type": "code",
      "source": [
        "#5.  How would you catch and handle division by zero error in Python?\n",
        "\n",
        "numerator = 10\n",
        "denominator = 0\n",
        "\n",
        "\n",
        "try:\n",
        "    result = numerator / denominator\n",
        "    print(\"Result:\", result)\n",
        "except ZeroDivisionError:\n",
        "    print(\"Error: Cannot divide by zero!\")\n"
      ],
      "metadata": {
        "colab": {
          "base_uri": "https://localhost:8080/"
        },
        "id": "d8U8DGdEIp5k",
        "outputId": "54e2f00b-9d53-42ca-ae07-ecb2761b1ef1"
      },
      "execution_count": 21,
      "outputs": [
        {
          "output_type": "stream",
          "name": "stdout",
          "text": [
            "Error: Cannot divide by zero!\n"
          ]
        }
      ]
    },
    {
      "cell_type": "code",
      "source": [
        "#6.  Write a Python program that logs an error message to a log file when a division by zero exception occurs.\n",
        "\n",
        "import logging\n",
        "\n",
        "logging.basicConfig(filename=\"error.log\", level=logging.ERROR)\n",
        "\n",
        "try:\n",
        "\n",
        "    result = 10 / 0\n",
        "except ZeroDivisionError as e:\n",
        "\n",
        "    logging.error(f\"Division by zero error: {e}\")\n",
        "\n",
        "    print(\"An error occurred. Check error.log for details.\")\n",
        "\n"
      ],
      "metadata": {
        "colab": {
          "base_uri": "https://localhost:8080/"
        },
        "id": "k9TX4pAHItSS",
        "outputId": "f241e6f8-f579-43d2-bc22-7de34e377193"
      },
      "execution_count": 23,
      "outputs": [
        {
          "output_type": "stream",
          "name": "stderr",
          "text": [
            "ERROR:root:Division by zero error: division by zero\n"
          ]
        },
        {
          "output_type": "stream",
          "name": "stdout",
          "text": [
            "An error occurred. Check error.log for details.\n"
          ]
        }
      ]
    },
    {
      "cell_type": "code",
      "source": [
        "#7.  How do you log information at different levels (INFO, ERROR, WARNING) in Python using the logging module?\n",
        "\n",
        "import logging\n",
        "\n",
        "logging.basicConfig(\n",
        "    level=logging.DEBUG,\n",
        "    format='%(asctime)s - %(levelname)s - %(message)s',\n",
        "    force=True\n",
        ")\n",
        "\n",
        "logging.info(\"This is an INFO message.\")\n",
        "logging.warning(\"This is a WARNING message.\")\n",
        "logging.error(\"This is an ERROR message.\")\n",
        "\n"
      ],
      "metadata": {
        "colab": {
          "base_uri": "https://localhost:8080/"
        },
        "id": "kyxm7lR7IwuW",
        "outputId": "e32384f8-c583-44b9-b631-806d173d4542"
      },
      "execution_count": 62,
      "outputs": [
        {
          "output_type": "stream",
          "name": "stderr",
          "text": [
            "2025-08-13 17:41:25,335 - INFO - This is an INFO message.\n",
            "2025-08-13 17:41:25,336 - WARNING - This is a WARNING message.\n",
            "2025-08-13 17:41:25,337 - ERROR - This is an ERROR message.\n"
          ]
        }
      ]
    },
    {
      "cell_type": "code",
      "source": [
        "#8.  Write a program to handle a file opening error using exception handling.\n",
        "\n",
        "\n",
        "try:\n",
        "    with open(\"non_existing_file.txt\", \"r\") as f:\n",
        "        content = f.read()\n",
        "        print(content)\n",
        "except FileNotFoundError:\n",
        "    print(\"Error: The file does not exist.\")\n",
        "except IOError:\n",
        "    print(\"Error: Cannot read the file.\")\n"
      ],
      "metadata": {
        "colab": {
          "base_uri": "https://localhost:8080/"
        },
        "id": "QgzXW9fnI27M",
        "outputId": "b697b10d-9f4e-46f8-e468-4d04e92b2b88"
      },
      "execution_count": 32,
      "outputs": [
        {
          "output_type": "stream",
          "name": "stdout",
          "text": [
            "Error: The file does not exist.\n"
          ]
        }
      ]
    },
    {
      "cell_type": "code",
      "source": [
        "#9.  How can you read a file line by line and store its content in a list in Python?\n",
        "\n",
        "\n",
        "with open(\"sample.txt\", \"w\") as f:\n",
        "    f.write(\"Line 1\\nLine 2\\nLine 3\")\n",
        "\n",
        "\n",
        "lines_list = []\n",
        "with open(\"sample.txt\", \"r\") as f:\n",
        "    for line in f:\n",
        "        lines_list.append(line.strip())\n",
        "\n",
        "print(lines_list)\n"
      ],
      "metadata": {
        "colab": {
          "base_uri": "https://localhost:8080/"
        },
        "id": "XFW-AM7AI7MZ",
        "outputId": "5a17121c-508e-4890-d1ae-c3dabd2742c7"
      },
      "execution_count": 33,
      "outputs": [
        {
          "output_type": "stream",
          "name": "stdout",
          "text": [
            "['Line 1', 'Line 2', 'Line 3']\n"
          ]
        }
      ]
    },
    {
      "cell_type": "code",
      "source": [
        "#10.  How can you append data to an existing file in Python?\n",
        "\n",
        "\n",
        "with open(\"sample.txt\", \"w\") as f:\n",
        "    f.write(\"Original Line 1\\nOriginal Line 2\\n\")\n",
        "\n",
        "\n",
        "with open(\"sample.txt\", \"a\") as f:\n",
        "    f.write(\"Appended Line 3\\n\")\n",
        "    f.write(\"Appended Line 4\\n\")\n",
        "\n",
        "\n",
        "with open(\"sample.txt\", \"r\") as f:\n",
        "    content = f.read()\n",
        "\n",
        "print(content)\n"
      ],
      "metadata": {
        "colab": {
          "base_uri": "https://localhost:8080/"
        },
        "id": "HRDNhdaII_n3",
        "outputId": "06a54b38-0c40-442f-8497-5198a777c354"
      },
      "execution_count": 34,
      "outputs": [
        {
          "output_type": "stream",
          "name": "stdout",
          "text": [
            "Original Line 1\n",
            "Original Line 2\n",
            "Appended Line 3\n",
            "Appended Line 4\n",
            "\n"
          ]
        }
      ]
    },
    {
      "cell_type": "code",
      "source": [
        "#11. Write a Python program that uses a try-except block to handle an error when attempting to access a dictionary key that doesn't exist.\n",
        "\n",
        "\n",
        "student = {\n",
        "    \"name\": \"Debojyoti\",\n",
        "    \"age\": 21\n",
        "}\n",
        "\n",
        "\n",
        "try:\n",
        "    print(\"Student's grade:\", student[\"grade\"])\n",
        "except KeyError:\n",
        "    print(\"Error: The key 'grade' does not exist in the dictionary.\")\n"
      ],
      "metadata": {
        "colab": {
          "base_uri": "https://localhost:8080/"
        },
        "id": "R5BHulYfJC_z",
        "outputId": "78216d33-a2e0-4ff5-f1e7-50a8f34c045f"
      },
      "execution_count": 35,
      "outputs": [
        {
          "output_type": "stream",
          "name": "stdout",
          "text": [
            "Error: The key 'grade' does not exist in the dictionary.\n"
          ]
        }
      ]
    },
    {
      "cell_type": "code",
      "source": [
        "#12.  Write a program that demonstrates using multiple except blocks to handle different types of exceptions.\n",
        "\n",
        "try:\n",
        "\n",
        "    num = 10\n",
        "    denom = 0\n",
        "    result = num / denom\n",
        "\n",
        "\n",
        "    my_list = [1, 2, 3]\n",
        "    print(my_list[5])\n",
        "\n",
        "except ZeroDivisionError:\n",
        "    print(\"Error: Cannot divide by zero.\")\n",
        "except IndexError:\n",
        "    print(\"Error: List index out of range.\")\n",
        "except Exception as e:\n",
        "    print(\"An unexpected error occurred:\", e)\n"
      ],
      "metadata": {
        "colab": {
          "base_uri": "https://localhost:8080/"
        },
        "id": "Joul3TvjJjKM",
        "outputId": "3b7b1255-9190-4c04-9a5d-7c762af125e3"
      },
      "execution_count": 36,
      "outputs": [
        {
          "output_type": "stream",
          "name": "stdout",
          "text": [
            "Error: Cannot divide by zero.\n"
          ]
        }
      ]
    },
    {
      "cell_type": "code",
      "source": [
        "#13.  How would you check if a file exists before attempting to read it in Python?\n",
        "\n",
        "from pathlib import Path\n",
        "\n",
        "file_path = Path(\"sample.txt\")\n",
        "\n",
        "if file_path.exists():\n",
        "    with open(file_path, \"r\") as f:\n",
        "        content = f.read()\n",
        "        print(\"File content:\\n\", content)\n",
        "else:\n",
        "    print(f\"Error: '{file_path}' does not exist.\")\n"
      ],
      "metadata": {
        "colab": {
          "base_uri": "https://localhost:8080/"
        },
        "id": "JkOgaCP2JmLV",
        "outputId": "645396fd-a83d-43bd-b909-810ecd3da5a0"
      },
      "execution_count": 37,
      "outputs": [
        {
          "output_type": "stream",
          "name": "stdout",
          "text": [
            "File content:\n",
            " Original Line 1\n",
            "Original Line 2\n",
            "Appended Line 3\n",
            "Appended Line 4\n",
            "\n"
          ]
        }
      ]
    },
    {
      "cell_type": "code",
      "source": [
        "#14.  Write a program that uses the logging module to log both informational and error messages.\n",
        "\n",
        "import logging\n",
        "\n",
        "# Configure logging to show INFO and above levels\n",
        "logging.basicConfig(\n",
        "    level=logging.INFO,\n",
        "    format='%(asctime)s - %(levelname)s - %(message)s'\n",
        ")\n",
        "\n",
        "# Log an informational message\n",
        "logging.info(\"Program started successfully.\")\n",
        "\n",
        "# Log an error message\n",
        "try:\n",
        "    x = 10 / 0\n",
        "except ZeroDivisionError:\n",
        "    logging.error(\"An error occurred: Division by zero.\")\n",
        "\n",
        "logging.info(\"Program ended.\")\n"
      ],
      "metadata": {
        "colab": {
          "base_uri": "https://localhost:8080/"
        },
        "id": "wl9Ln8n_JpL0",
        "outputId": "9b5bf143-1b67-4498-99c9-cbe55b9a8f82"
      },
      "execution_count": 63,
      "outputs": [
        {
          "output_type": "stream",
          "name": "stderr",
          "text": [
            "2025-08-13 17:41:56,623 - INFO - Program started successfully.\n",
            "2025-08-13 17:41:56,624 - ERROR - An error occurred: Division by zero.\n",
            "2025-08-13 17:41:56,625 - INFO - Program ended.\n"
          ]
        }
      ]
    },
    {
      "cell_type": "code",
      "source": [
        "#15.  Write a Python program that prints the content of a file and handles the case when the file is empty.\n",
        "\n",
        "\n",
        "empty_file = \"empty.txt\"\n",
        "with open(empty_file, \"w\") as f:\n",
        "    pass\n",
        "\n",
        "\n",
        "try:\n",
        "    with open(empty_file, \"r\") as f:\n",
        "        content = f.read()\n",
        "        if content:\n",
        "            print(\"File content:\\n\", content)\n",
        "        else:\n",
        "            print(\"The file is empty.\")\n",
        "except FileNotFoundError:\n",
        "    print(f\"Error: '{empty_file}' does not exist.\")\n",
        "except IOError:\n",
        "    print(\"Error: Cannot read the file.\")\n"
      ],
      "metadata": {
        "colab": {
          "base_uri": "https://localhost:8080/"
        },
        "id": "1w8wee00Js1G",
        "outputId": "eca0e7ad-99c4-43ec-ff00-f10a4afe518b"
      },
      "execution_count": 39,
      "outputs": [
        {
          "output_type": "stream",
          "name": "stdout",
          "text": [
            "The file is empty.\n"
          ]
        }
      ]
    },
    {
      "cell_type": "code",
      "source": [
        "#16.  Demonstrate how to use memory profiling to check the memory usage of a small program.\n",
        "\n",
        "from memory_profiler import profile\n",
        "from memory_profiler import memory_usage\n",
        "\n",
        "def my_program():\n",
        "    my_list = [i for i in range(100000)]\n",
        "    squared = [i**2 for i in my_list]\n",
        "    print(\"Computation done!\")\n",
        "\n",
        "\n",
        "mem_usage = memory_usage((my_program,))\n",
        "print(f\"Memory usage (in MB): {mem_usage}\")\n",
        "\n"
      ],
      "metadata": {
        "colab": {
          "base_uri": "https://localhost:8080/"
        },
        "id": "mn83a17PJxN2",
        "outputId": "f7e42b78-cbb6-40ab-b7ed-9500ed8411e1"
      },
      "execution_count": 65,
      "outputs": [
        {
          "output_type": "stream",
          "name": "stdout",
          "text": [
            "Computation done!\n",
            "Computation done!\n",
            "Computation done!\n",
            "Memory usage (in MB): [117.93359375, 117.58203125, 117.58203125, 117.58203125, 117.58203125, 117.58203125, 118.09375, 118.44921875, 119.0703125, 119.48046875, 119.89453125, 120.515625, 120.88671875, 119.90234375, 117.93359375]\n"
          ]
        }
      ]
    },
    {
      "cell_type": "code",
      "source": [
        "#17.  Write a Python program to create and write a list of numbers to a file, one number per line.\n",
        "\n",
        "\n",
        "numbers = [10, 20, 30, 40, 50]\n",
        "\n",
        "\n",
        "with open(\"numbers.txt\", \"w\") as f:\n",
        "    for num in numbers:\n",
        "        f.write(str(num) + \"\\n\")\n",
        "\n",
        "print(\"Numbers written to 'numbers.txt'\")\n",
        "\n",
        "\n",
        "with open(\"numbers.txt\", \"r\") as f:\n",
        "    print(f.read())\n"
      ],
      "metadata": {
        "colab": {
          "base_uri": "https://localhost:8080/"
        },
        "id": "5Ne4E3TiJ0fI",
        "outputId": "191607e4-5d25-4ea8-9956-efdd33418205"
      },
      "execution_count": 42,
      "outputs": [
        {
          "output_type": "stream",
          "name": "stdout",
          "text": [
            "Numbers written to 'numbers.txt'\n",
            "10\n",
            "20\n",
            "30\n",
            "40\n",
            "50\n",
            "\n"
          ]
        }
      ]
    },
    {
      "cell_type": "code",
      "source": [
        "#18.  How would you implement a basic logging setup that logs to a file with rotation after 1MB?\n",
        "\n",
        "import logging\n",
        "from logging.handlers import RotatingFileHandler\n",
        "\n",
        "\n",
        "handler = RotatingFileHandler(\n",
        "    \"rotating_app.log\", maxBytes=1*1024*1024, backupCount=3\n",
        ")\n",
        "\n",
        "\n",
        "logging.basicConfig(\n",
        "    handlers=[handler],\n",
        "    level=logging.INFO,\n",
        "    format=\"%(asctime)s - %(levelname)s - %(message)s\"\n",
        ")\n",
        "\n",
        "\n",
        "for i in range(10000):\n",
        "    logging.info(f\"Log message number {i+1}\")\n",
        "\n",
        "print(\"Logging with rotation complete. Check 'rotating_app.log'\")\n"
      ],
      "metadata": {
        "colab": {
          "base_uri": "https://localhost:8080/"
        },
        "id": "2eBt71MGJ4WQ",
        "outputId": "474b16fc-b6f3-475b-bffd-2118f8830671"
      },
      "execution_count": 43,
      "outputs": [
        {
          "output_type": "stream",
          "name": "stdout",
          "text": [
            "Logging with rotation complete. Check 'rotating_app.log'\n"
          ]
        }
      ]
    },
    {
      "cell_type": "code",
      "source": [
        "#19.  Write a program that handles both IndexError and KeyError using a try-except block.\n",
        "\n",
        "\n",
        "my_list = [1, 2, 3]\n",
        "my_dict = {\"a\": 10, \"b\": 20}\n",
        "\n",
        "\n",
        "try:\n",
        "\n",
        "    print(\"Accessing list element:\", my_list[5])\n",
        "\n",
        "\n",
        "    print(\"Accessing dictionary key:\", my_dict[\"c\"])\n",
        "\n",
        "except IndexError:\n",
        "    print(\"Error: List index out of range.\")\n",
        "except KeyError:\n",
        "    print(\"Error: Dictionary key does not exist.\")\n"
      ],
      "metadata": {
        "colab": {
          "base_uri": "https://localhost:8080/"
        },
        "id": "fMVzMzgIJ7wy",
        "outputId": "88e751f2-b899-4f51-8eb5-21323831253c"
      },
      "execution_count": 44,
      "outputs": [
        {
          "output_type": "stream",
          "name": "stdout",
          "text": [
            "Error: List index out of range.\n"
          ]
        }
      ]
    },
    {
      "cell_type": "code",
      "source": [
        "#20.  How would you open a file and read its contents using a context manager in Python?\n",
        "\n",
        "\n",
        "with open(\"example_file.txt\", \"w\") as f:\n",
        "    f.write(\"Line 1\\nLine 2\\nLine 3\")\n",
        "\n",
        "\n",
        "with open(\"example_file.txt\", \"r\") as f:\n",
        "    content = f.read()\n",
        "\n",
        "print(\"File contents:\")\n",
        "print(content)\n"
      ],
      "metadata": {
        "colab": {
          "base_uri": "https://localhost:8080/"
        },
        "id": "buwRKUwLJ-qQ",
        "outputId": "1616fb59-e3ca-4c6a-ab35-1046ebcd5401"
      },
      "execution_count": 45,
      "outputs": [
        {
          "output_type": "stream",
          "name": "stdout",
          "text": [
            "File contents:\n",
            "Line 1\n",
            "Line 2\n",
            "Line 3\n"
          ]
        }
      ]
    },
    {
      "cell_type": "code",
      "source": [
        "#21.  Write a Python program that reads a file and prints the number of occurrences of a specific word.\n",
        "\n",
        "\n",
        "with open(\"sample_text.txt\", \"w\") as f:\n",
        "    f.write(\"Python is great. Python is easy. I love Python!\")\n",
        "\n",
        "\n",
        "word_to_count = \"Python\"\n",
        "\n",
        "\n",
        "try:\n",
        "    with open(\"sample_text.txt\", \"r\") as f:\n",
        "        content = f.read()\n",
        "\n",
        "        words = content.replace('.', '').replace('!', '').split()\n",
        "        count = words.count(word_to_count)\n",
        "    print(f\"The word '{word_to_count}' occurs {count} times.\")\n",
        "except FileNotFoundError:\n",
        "    print(\"Error: The file does not exist.\")\n"
      ],
      "metadata": {
        "colab": {
          "base_uri": "https://localhost:8080/"
        },
        "id": "Mllg8JuuKBMS",
        "outputId": "385d1c27-351b-4593-ac67-cacc03886df3"
      },
      "execution_count": 69,
      "outputs": [
        {
          "output_type": "stream",
          "name": "stdout",
          "text": [
            "The word 'Python' occurs 3 times.\n"
          ]
        }
      ]
    },
    {
      "cell_type": "code",
      "source": [
        "#22.  How can you check if a file is empty before attempting to read its contents?\n",
        "\n",
        "import os\n",
        "\n",
        "filename = \"sample.txt\"\n",
        "\n",
        "\n",
        "with open(filename, \"w\") as f:\n",
        "    pass\n",
        "\n",
        "\n",
        "if os.path.exists(filename):\n",
        "    if os.path.getsize(filename) > 0:\n",
        "        with open(filename, \"r\") as f:\n",
        "            content = f.read()\n",
        "            print(\"File content:\\n\", content)\n",
        "    else:\n",
        "        print(\"The file is empty.\")\n",
        "else:\n",
        "    print(f\"Error: '{filename}' does not exist.\")\n"
      ],
      "metadata": {
        "colab": {
          "base_uri": "https://localhost:8080/"
        },
        "id": "oATbvmH2KENi",
        "outputId": "17e4f0cf-0b7b-4b8f-ef07-153b88b84191"
      },
      "execution_count": 68,
      "outputs": [
        {
          "output_type": "stream",
          "name": "stdout",
          "text": [
            "The file is empty.\n"
          ]
        }
      ]
    },
    {
      "cell_type": "code",
      "source": [
        "#23.  Write a Python program that writes to a log file when an error occurs during file handling.\n",
        "\n",
        "import logging\n",
        "\n",
        "\n",
        "logging.basicConfig(filename='file_errors.log',\n",
        "                    level=logging.ERROR,\n",
        "                    format='%(asctime)s - %(levelname)s - %(message)s')\n",
        "\n",
        "try:\n",
        "\n",
        "    with open(\"non_existent_file.txt\", \"r\") as f:\n",
        "        content = f.read()\n",
        "except FileNotFoundError as e:\n",
        "    logging.error(f\"File not found: {e}\")\n",
        "    print(\"Error: The file could not be found. Please check the file name and path.\")\n",
        "except IOError as e:\n",
        "    logging.error(f\"I/O error occurred: {e}\")\n",
        "    print(\"Error: An I/O error occurred while accessing the file.\")\n"
      ],
      "metadata": {
        "colab": {
          "base_uri": "https://localhost:8080/"
        },
        "id": "73dR2u1LKG3-",
        "outputId": "c716f563-d195-4aa7-ea7b-c567dcbf502f"
      },
      "execution_count": 67,
      "outputs": [
        {
          "output_type": "stream",
          "name": "stderr",
          "text": [
            "2025-08-13 17:51:45,964 - ERROR - File not found: [Errno 2] No such file or directory: 'non_existent_file.txt'\n"
          ]
        },
        {
          "output_type": "stream",
          "name": "stdout",
          "text": [
            "Error: The file could not be found. Please check the file name and path.\n"
          ]
        }
      ]
    }
  ]
}